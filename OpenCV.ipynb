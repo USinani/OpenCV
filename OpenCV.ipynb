{
  "nbformat": 4,
  "nbformat_minor": 0,
  "metadata": {
    "colab": {
      "name": "OpenCV.ipynb",
      "provenance": [],
      "collapsed_sections": [],
      "toc_visible": true,
      "authorship_tag": "ABX9TyNbylpIbPntquXumoktB/zd",
      "include_colab_link": true
    },
    "kernelspec": {
      "name": "python3",
      "display_name": "Python 3"
    }
  },
  "cells": [
    {
      "cell_type": "markdown",
      "metadata": {
        "id": "view-in-github",
        "colab_type": "text"
      },
      "source": [
        "<a href=\"https://colab.research.google.com/github/USinani/OpenCV/blob/development/OpenCV.ipynb\" target=\"_parent\"><img src=\"https://colab.research.google.com/assets/colab-badge.svg\" alt=\"Open In Colab\"/></a>"
      ]
    },
    {
      "cell_type": "code",
      "metadata": {
        "colab_type": "code",
        "id": "9yX1LZ6ql-Ab",
        "colab": {}
      },
      "source": [
        "import cv2 as cv, numpy as np\n",
        "import matplotlib.pyplot as plt\n",
        "import matplotlib.image as mpimg\n",
        "import pandas as pd\n",
        "import os\n",
        "import glob\n",
        "\n",
        "%matplotlib inline"
      ],
      "execution_count": 0,
      "outputs": []
    },
    {
      "cell_type": "code",
      "metadata": {
        "id": "KRRBL0j-oOtw",
        "colab_type": "code",
        "colab": {}
      },
      "source": [
        ""
      ],
      "execution_count": 0,
      "outputs": []
    },
    {
      "cell_type": "markdown",
      "metadata": {
        "id": "X-AdTSypntZ3",
        "colab_type": "text"
      },
      "source": [
        "\n",
        "# Import images"
      ]
    },
    {
      "cell_type": "code",
      "metadata": {
        "id": "60gvd-HukWUt",
        "colab_type": "code",
        "colab": {}
      },
      "source": [
        "# images folder\n",
        "# URL: https://drive.google.com/open?id=1VA-hnlChzfnwXahSf-YzLXYL2GIXYJDx\n",
        "# from google.colab import drive\n",
        "# drive.mount('/content/drive')\n",
        "# uploaded = files.upload()\n",
        "# Import from github\n",
        "# url = 'https://github.com/USinani/OpenCV/blob/master/images/shapes.jpg'\n",
        "# df1 = pd.read_csv(url)\n",
        "\n",
        "# print(url)\n",
        "# plt.imshow(remote_img)\n",
        "# mpimg.imshow(remote_img)\n",
        "# Dataset is now stored in a Pandas Dataframe\n",
        "\n",
        "# List directory\n",
        "\n",
        "# files = files.os.listdir('shapes.jpg')\n"
      ],
      "execution_count": 0,
      "outputs": []
    },
    {
      "cell_type": "code",
      "metadata": {
        "id": "RDnGoTsyj3U8",
        "colab_type": "code",
        "outputId": "f2dcec7b-b577-4f21-e7ac-6163ea659b5c",
        "colab": {
          "base_uri": "https://localhost:8080/",
          "height": 370
        }
      },
      "source": [
        "image = mpimg.imread('shapes.jpg')\n",
        "# img = cv.imread('shapes.jpg')\n",
        "\n",
        "# color space conversions\n",
        "gray = cv.cvtColor(image, cv.COLOR_BGR2GRAY)\n",
        "hsv = cv.cvtColor(image, cv.COLOR_BGR2HSV)\n",
        "hls = cv.cvtColor(image, cv.COLOR_BGR2HLS)\n",
        "yuv = cv.cvtColor(image, cv.COLOR_BGR2YUV)\n",
        "\n",
        "# printing out some stats and plotting\n",
        "print('This image is:', type(image), 'with dimensions:', image.shape)\n",
        "print('This image is:', type(gray), 'with dimensions:', gray.shape)\n",
        "print('This image is:', type(hsv), 'with dimensions:', hsv.shape)\n",
        "print('This image is:', type(hls), 'with dimensions:', hls.shape)\n",
        "print('This image is:', type(yuv), 'with dimensions:', yuv.shape)\n",
        "\n",
        "# plt.imshow(image)\n",
        "plt.imshow(gray)\n",
        "plt.imshow(hsv) \n",
        "plt.imshow(hls)\n",
        "plt.imshow(yuv)    \n",
        "\n",
        "\n",
        "# # OpenCV does not work in Colab\n",
        "# cv.imshow(img)\n",
        "# cv.waitKey(0)\n",
        "# cv.destroyAllWindows()"
      ],
      "execution_count": 0,
      "outputs": [
        {
          "output_type": "stream",
          "text": [
            "This image is: <class 'numpy.ndarray'> with dimensions: (800, 1200, 3)\n",
            "This image is: <class 'numpy.ndarray'> with dimensions: (800, 1200)\n",
            "This image is: <class 'numpy.ndarray'> with dimensions: (800, 1200, 3)\n",
            "This image is: <class 'numpy.ndarray'> with dimensions: (800, 1200, 3)\n",
            "This image is: <class 'numpy.ndarray'> with dimensions: (800, 1200, 3)\n"
          ],
          "name": "stdout"
        },
        {
          "output_type": "execute_result",
          "data": {
            "text/plain": [
              "<matplotlib.image.AxesImage at 0x7faaaf6ed198>"
            ]
          },
          "metadata": {
            "tags": []
          },
          "execution_count": 110
        },
        {
          "output_type": "display_data",
          "data": {
            "image/png": "[encoded data removed]",
            "text/plain": [
              "<Figure size 432x288 with 1 Axes>"
            ]
          },
          "metadata": {
            "tags": []
          }
        }
      ]
    },
    {
      "cell_type": "code",
      "metadata": {
        "id": "l8KVeT28Zgua",
        "colab_type": "code",
        "outputId": "0a764359-9b3d-44f5-ff22-d10585d3a7e0",
        "colab": {
          "base_uri": "https://localhost:8080/",
          "height": 286
        }
      },
      "source": [
        "def img_cvt():\n",
        "\n",
        "  \"\"\" function that will convert imag to different color spaces\"\"\"\n",
        "\n",
        "  image = cv.imread('shapes.jpg')\n",
        "\n",
        "  gray = cv.COLOR_BGR2GRAY\n",
        "  hsv = cv.COLOR_BGR2HSV\n",
        "  hsl = cv.COLOR_BGR2HLS\n",
        "  yuv = cv.COLOR_BGR2YUV\n",
        "  \n",
        "  color_space = [\n",
        "                 cv.COLOR_BGR2GRAY,\n",
        "                 cv.COLOR_BGR2HSV,\n",
        "                 cv.COLOR_BGR2HLS,\n",
        "                 cv.COLOR_BGR2YUV \n",
        "                 ]\n",
        "\n",
        "  color_space_name = [\n",
        "                 gray,\n",
        "                 hsv,\n",
        "                 hls,\n",
        "                 yuv ]\n",
        "\n",
        "  cvt_img = cv.cvtColor(image, color_space_name[0])\n",
        "\n",
        "  return cvt_img\n",
        "\n",
        "plt.imshow(img_cvt())"
      ],
      "execution_count": 0,
      "outputs": [
        {
          "output_type": "execute_result",
          "data": {
            "text/plain": [
              "<matplotlib.image.AxesImage at 0x7faaaf732fd0>"
            ]
          },
          "metadata": {
            "tags": []
          },
          "execution_count": 112
        },
        {
          "output_type": "display_data",
          "data": {
            "image/png": "[encoded data removed]",
            "text/plain": [
              "<Figure size 432x288 with 1 Axes>"
            ]
          },
          "metadata": {
            "tags": []
          }
        }
      ]
    },
    {
      "cell_type": "markdown",
      "metadata": {
        "id": "ZPQPlUqKjb7z",
        "colab_type": "text"
      },
      "source": [
        "Next : Try to build using classes"
      ]
    },
    {
      "cell_type": "code",
      "metadata": {
        "id": "azFlhztzjeB5",
        "colab_type": "code",
        "colab": {}
      },
      "source": [
        "def image_conversion(self, image):\n",
        "  \"\"\" this function will convert images to a different color space\"\"\"\n",
        "  self.image = cv.imread('shapes.jpg')\n",
        "  # input image\n",
        "  # img = cv.imread('shapes.jpg')\n",
        "\n",
        "  # convert to a differet color space\n",
        "\n",
        "  # return converted image\n",
        "\n",
        "  gray = cv.cvtColor(self.image, cv.COLOR_BGR2GRAY)\n",
        "\n",
        "  return plt.imshow(gray)"
      ],
      "execution_count": 0,
      "outputs": []
    },
    {
      "cell_type": "markdown",
      "metadata": {
        "id": "c9KUqEtr4ahD",
        "colab_type": "text"
      },
      "source": [
        ""
      ]
    },
    {
      "cell_type": "code",
      "metadata": {
        "id": "JMuQxoQLhJ4g",
        "colab_type": "code",
        "colab": {}
      },
      "source": [
        ""
      ],
      "execution_count": 0,
      "outputs": []
    },
    {
      "cell_type": "code",
      "metadata": {
        "id": "MC_5AfmUuubb",
        "colab_type": "code",
        "colab": {}
      },
      "source": [
        ""
      ],
      "execution_count": 0,
      "outputs": []
    },
    {
      "cell_type": "code",
      "metadata": {
        "id": "Un_UUiFra9Jf",
        "colab_type": "code",
        "colab": {}
      },
      "source": [
        ""
      ],
      "execution_count": 0,
      "outputs": []
    }
  ]
}